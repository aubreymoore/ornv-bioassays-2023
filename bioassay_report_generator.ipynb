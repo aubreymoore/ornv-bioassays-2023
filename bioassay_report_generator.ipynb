{
  "nbformat": 4,
  "nbformat_minor": 0,
  "metadata": {
    "colab": {
<<<<<<< HEAD
      "provenance": []
=======
      "provenance": [],
      "authorship_tag": "ABX9TyP/lt+zmo9MuOlIpDab0ema",
      "include_colab_link": true
>>>>>>> 3aacb6fdaf343b9d9cc234410e9584ce35d63e52
    },
    "kernelspec": {
      "name": "python3",
      "display_name": "Python 3"
    },
    "language_info": {
      "name": "python"
    }
  },
  "cells": [
    {
      "cell_type": "markdown",
<<<<<<< HEAD
      "source": [
        "This Jupyter notebook is my attempt to build a reporting system for insect bioassays I am currrently woring on.\n",
        "\n",
        "Data from these bioassays are saved in a MySQL database hosted on DreamHost, http://mysql.guaminsects.net/ornv.\n",
        "\n",
        "I am using a GitHub repository, https://github.com/aubreymoore/ornv-bioassays-2023, for backing code and data for the bioassays.\n",
        "\n",
        "Reports can be accessed in the GitHub pages associated with the repository, https://aubreymoore.github.io/ornv-bioassays-2023/\n",
        "\n",
        "## Workflow\n",
        "\n",
        "Workflow is not yet automated."
      ],
      "metadata": {
        "id": "kFFJfxxzGJS2"
      }
=======
      "metadata": {
        "id": "view-in-github",
        "colab_type": "text"
      },
      "source": [
        "<a href=\"https://colab.research.google.com/github/aubreymoore/ornv-bioassays-2023/blob/master/bioassay_report_generator.ipynb\" target=\"_parent\"><img src=\"https://colab.research.google.com/assets/colab-badge.svg\" alt=\"Open In Colab\"/></a>"
      ]
>>>>>>> 3aacb6fdaf343b9d9cc234410e9584ce35d63e52
    },
    {
      "cell_type": "code",
      "source": [
        "%%capture\n",
        "!pip install mysql-connector-python"
      ],
      "metadata": {
        "id": "Xrfv_3CHFVYi"
      },
<<<<<<< HEAD
      "execution_count": 10,
=======
      "execution_count": 1,
>>>>>>> 3aacb6fdaf343b9d9cc234410e9584ce35d63e52
      "outputs": []
    },
    {
      "cell_type": "code",
<<<<<<< HEAD
      "execution_count": 11,
=======
      "execution_count": 2,
>>>>>>> 3aacb6fdaf343b9d9cc234410e9584ce35d63e52
      "metadata": {
        "id": "hsLb4CJ-BCyw"
      },
      "outputs": [],
      "source": [
        "from sqlalchemy import create_engine, text\n",
        "import mysql.connector as mysql\n",
        "import pandas as pd\n",
        "import getpass\n",
        "from datetime import datetime"
      ]
    },
    {
      "cell_type": "code",
      "source": [
        "username = input('Enter username:')\n",
        "print('Enter password:')\n",
        "password = getpass.getpass()"
      ],
      "metadata": {
        "colab": {
          "base_uri": "https://localhost:8080/"
        },
        "id": "8e0L2TdhByjM",
<<<<<<< HEAD
        "outputId": "dbe2986d-9380-416a-f1b1-c4a0205291d4"
      },
      "execution_count": 12,
=======
        "outputId": "cf987787-8e57-4101-a7cd-cac8b6450658"
      },
      "execution_count": 3,
>>>>>>> 3aacb6fdaf343b9d9cc234410e9584ce35d63e52
      "outputs": [
        {
          "name": "stdout",
          "output_type": "stream",
          "text": [
            "Enter username:aubreymoore\n",
            "Enter password:\n",
            "··········\n"
          ]
        }
      ]
    },
    {
      "cell_type": "code",
      "source": [
        "host = 'mysql.guaminsects.net'\n",
        "port = '3306'\n",
        "database = 'ornv'\n",
        "connection_string = f'mysql+mysqlconnector://{username}:{password}@{host}:{port}/{database}'\n",
        "engine = create_engine(connection_string)"
      ],
      "metadata": {
        "id": "ZX-k4OGiBoKW"
      },
<<<<<<< HEAD
      "execution_count": 13,
=======
      "execution_count": 4,
>>>>>>> 3aacb6fdaf343b9d9cc234410e9584ce35d63e52
      "outputs": []
    },
    {
      "cell_type": "code",
      "source": [
        "q_bioassay_beetle_count = \"\"\"\n",
        "SELECT date_dosed, treatment, COUNT(*) AS N FROM beetles\n",
        "GROUP BY date_dosed, treatment\n",
        "ORDER BY date_dosed, treatment\n",
        "\"\"\"\n",
        "\n",
        "q_bioassay_dead_beetle_count = \"\"\"\n",
        "SELECT date_dosed, treatment, COUNT(*) AS N FROM beetles\n",
        "WHERE date_dead > '0000-00-00'\n",
        "GROUP BY date_dosed, treatment\n",
        "ORDER BY date_dosed, treatment\n",
        "\"\"\""
      ],
      "metadata": {
        "id": "LFcNKkHWRh-g"
      },
<<<<<<< HEAD
      "execution_count": 14,
=======
      "execution_count": 5,
>>>>>>> 3aacb6fdaf343b9d9cc234410e9584ce35d63e52
      "outputs": []
    },
    {
      "cell_type": "code",
      "source": [
        "df = pd.read_sql_query(sql=text(q_bioassay_beetle_count), con=engine.connect())\n",
        "df"
      ],
      "metadata": {
        "colab": {
          "base_uri": "https://localhost:8080/",
          "height": 520
        },
        "id": "llMvCEKrMcuC",
<<<<<<< HEAD
        "outputId": "fc14f5e1-11fb-46f0-f183-018edb83186f"
      },
      "execution_count": 15,
=======
        "outputId": "107aca6b-faa8-488c-ec64-35ff94d39dbc"
      },
      "execution_count": 6,
>>>>>>> 3aacb6fdaf343b9d9cc234410e9584ce35d63e52
      "outputs": [
        {
          "output_type": "execute_result",
          "data": {
            "text/plain": [
              "    date_dosed treatment    N\n",
              "0         None            345\n",
              "1   2023-07-31   CONTROL   10\n",
              "2   2023-07-31     DUG42   11\n",
              "3   2023-08-04   CONTROL   10\n",
              "4   2023-08-04     DUG42   10\n",
              "5   2023-08-15   CONTROL   10\n",
              "6   2023-08-15     DUG42   10\n",
              "7   2023-08-15       PNG   10\n",
              "8   2023-08-15      V23B   10\n",
              "9   2023-08-15       X2B   10\n",
              "10  2023-08-24   CONTROL   10\n",
              "11  2023-08-24     DUG42   10\n",
              "12  2023-08-24       PNG   10\n",
              "13  2023-08-24      V23B   11\n",
              "14  2023-08-24       X2B    9"
            ],
            "text/html": [
              "\n",
<<<<<<< HEAD
              "  <div id=\"df-20e75313-a453-4676-abb5-667cce638d18\" class=\"colab-df-container\">\n",
=======
              "  <div id=\"df-864c3b93-f10b-4146-beb5-eb53dbf8387e\" class=\"colab-df-container\">\n",
>>>>>>> 3aacb6fdaf343b9d9cc234410e9584ce35d63e52
              "    <div>\n",
              "<style scoped>\n",
              "    .dataframe tbody tr th:only-of-type {\n",
              "        vertical-align: middle;\n",
              "    }\n",
              "\n",
              "    .dataframe tbody tr th {\n",
              "        vertical-align: top;\n",
              "    }\n",
              "\n",
              "    .dataframe thead th {\n",
              "        text-align: right;\n",
              "    }\n",
              "</style>\n",
              "<table border=\"1\" class=\"dataframe\">\n",
              "  <thead>\n",
              "    <tr style=\"text-align: right;\">\n",
              "      <th></th>\n",
              "      <th>date_dosed</th>\n",
              "      <th>treatment</th>\n",
              "      <th>N</th>\n",
              "    </tr>\n",
              "  </thead>\n",
              "  <tbody>\n",
              "    <tr>\n",
              "      <th>0</th>\n",
              "      <td>None</td>\n",
              "      <td></td>\n",
              "      <td>345</td>\n",
              "    </tr>\n",
              "    <tr>\n",
              "      <th>1</th>\n",
              "      <td>2023-07-31</td>\n",
              "      <td>CONTROL</td>\n",
              "      <td>10</td>\n",
              "    </tr>\n",
              "    <tr>\n",
              "      <th>2</th>\n",
              "      <td>2023-07-31</td>\n",
              "      <td>DUG42</td>\n",
              "      <td>11</td>\n",
              "    </tr>\n",
              "    <tr>\n",
              "      <th>3</th>\n",
              "      <td>2023-08-04</td>\n",
              "      <td>CONTROL</td>\n",
              "      <td>10</td>\n",
              "    </tr>\n",
              "    <tr>\n",
              "      <th>4</th>\n",
              "      <td>2023-08-04</td>\n",
              "      <td>DUG42</td>\n",
              "      <td>10</td>\n",
              "    </tr>\n",
              "    <tr>\n",
              "      <th>5</th>\n",
              "      <td>2023-08-15</td>\n",
              "      <td>CONTROL</td>\n",
              "      <td>10</td>\n",
              "    </tr>\n",
              "    <tr>\n",
              "      <th>6</th>\n",
              "      <td>2023-08-15</td>\n",
              "      <td>DUG42</td>\n",
              "      <td>10</td>\n",
              "    </tr>\n",
              "    <tr>\n",
              "      <th>7</th>\n",
              "      <td>2023-08-15</td>\n",
              "      <td>PNG</td>\n",
              "      <td>10</td>\n",
              "    </tr>\n",
              "    <tr>\n",
              "      <th>8</th>\n",
              "      <td>2023-08-15</td>\n",
              "      <td>V23B</td>\n",
              "      <td>10</td>\n",
              "    </tr>\n",
              "    <tr>\n",
              "      <th>9</th>\n",
              "      <td>2023-08-15</td>\n",
              "      <td>X2B</td>\n",
              "      <td>10</td>\n",
              "    </tr>\n",
              "    <tr>\n",
              "      <th>10</th>\n",
              "      <td>2023-08-24</td>\n",
              "      <td>CONTROL</td>\n",
              "      <td>10</td>\n",
              "    </tr>\n",
              "    <tr>\n",
              "      <th>11</th>\n",
              "      <td>2023-08-24</td>\n",
              "      <td>DUG42</td>\n",
              "      <td>10</td>\n",
              "    </tr>\n",
              "    <tr>\n",
              "      <th>12</th>\n",
              "      <td>2023-08-24</td>\n",
              "      <td>PNG</td>\n",
              "      <td>10</td>\n",
              "    </tr>\n",
              "    <tr>\n",
              "      <th>13</th>\n",
              "      <td>2023-08-24</td>\n",
              "      <td>V23B</td>\n",
              "      <td>11</td>\n",
              "    </tr>\n",
              "    <tr>\n",
              "      <th>14</th>\n",
              "      <td>2023-08-24</td>\n",
              "      <td>X2B</td>\n",
              "      <td>9</td>\n",
              "    </tr>\n",
              "  </tbody>\n",
              "</table>\n",
              "</div>\n",
              "    <div class=\"colab-df-buttons\">\n",
              "\n",
              "  <div class=\"colab-df-container\">\n",
<<<<<<< HEAD
              "    <button class=\"colab-df-convert\" onclick=\"convertToInteractive('df-20e75313-a453-4676-abb5-667cce638d18')\"\n",
=======
              "    <button class=\"colab-df-convert\" onclick=\"convertToInteractive('df-864c3b93-f10b-4146-beb5-eb53dbf8387e')\"\n",
>>>>>>> 3aacb6fdaf343b9d9cc234410e9584ce35d63e52
              "            title=\"Convert this dataframe to an interactive table.\"\n",
              "            style=\"display:none;\">\n",
              "\n",
              "  <svg xmlns=\"http://www.w3.org/2000/svg\" height=\"24px\" viewBox=\"0 -960 960 960\">\n",
              "    <path d=\"M120-120v-720h720v720H120Zm60-500h600v-160H180v160Zm220 220h160v-160H400v160Zm0 220h160v-160H400v160ZM180-400h160v-160H180v160Zm440 0h160v-160H620v160ZM180-180h160v-160H180v160Zm440 0h160v-160H620v160Z\"/>\n",
              "  </svg>\n",
              "    </button>\n",
              "\n",
              "  <style>\n",
              "    .colab-df-container {\n",
              "      display:flex;\n",
              "      gap: 12px;\n",
              "    }\n",
              "\n",
              "    .colab-df-convert {\n",
              "      background-color: #E8F0FE;\n",
              "      border: none;\n",
              "      border-radius: 50%;\n",
              "      cursor: pointer;\n",
              "      display: none;\n",
              "      fill: #1967D2;\n",
              "      height: 32px;\n",
              "      padding: 0 0 0 0;\n",
              "      width: 32px;\n",
              "    }\n",
              "\n",
              "    .colab-df-convert:hover {\n",
              "      background-color: #E2EBFA;\n",
              "      box-shadow: 0px 1px 2px rgba(60, 64, 67, 0.3), 0px 1px 3px 1px rgba(60, 64, 67, 0.15);\n",
              "      fill: #174EA6;\n",
              "    }\n",
              "\n",
              "    .colab-df-buttons div {\n",
              "      margin-bottom: 4px;\n",
              "    }\n",
              "\n",
              "    [theme=dark] .colab-df-convert {\n",
              "      background-color: #3B4455;\n",
              "      fill: #D2E3FC;\n",
              "    }\n",
              "\n",
              "    [theme=dark] .colab-df-convert:hover {\n",
              "      background-color: #434B5C;\n",
              "      box-shadow: 0px 1px 3px 1px rgba(0, 0, 0, 0.15);\n",
              "      filter: drop-shadow(0px 1px 2px rgba(0, 0, 0, 0.3));\n",
              "      fill: #FFFFFF;\n",
              "    }\n",
              "  </style>\n",
              "\n",
              "    <script>\n",
              "      const buttonEl =\n",
<<<<<<< HEAD
              "        document.querySelector('#df-20e75313-a453-4676-abb5-667cce638d18 button.colab-df-convert');\n",
=======
              "        document.querySelector('#df-864c3b93-f10b-4146-beb5-eb53dbf8387e button.colab-df-convert');\n",
>>>>>>> 3aacb6fdaf343b9d9cc234410e9584ce35d63e52
              "      buttonEl.style.display =\n",
              "        google.colab.kernel.accessAllowed ? 'block' : 'none';\n",
              "\n",
              "      async function convertToInteractive(key) {\n",
<<<<<<< HEAD
              "        const element = document.querySelector('#df-20e75313-a453-4676-abb5-667cce638d18');\n",
=======
              "        const element = document.querySelector('#df-864c3b93-f10b-4146-beb5-eb53dbf8387e');\n",
>>>>>>> 3aacb6fdaf343b9d9cc234410e9584ce35d63e52
              "        const dataTable =\n",
              "          await google.colab.kernel.invokeFunction('convertToInteractive',\n",
              "                                                    [key], {});\n",
              "        if (!dataTable) return;\n",
              "\n",
              "        const docLinkHtml = 'Like what you see? Visit the ' +\n",
              "          '<a target=\"_blank\" href=https://colab.research.google.com/notebooks/data_table.ipynb>data table notebook</a>'\n",
              "          + ' to learn more about interactive tables.';\n",
              "        element.innerHTML = '';\n",
              "        dataTable['output_type'] = 'display_data';\n",
              "        await google.colab.output.renderOutput(dataTable, element);\n",
              "        const docLink = document.createElement('div');\n",
              "        docLink.innerHTML = docLinkHtml;\n",
              "        element.appendChild(docLink);\n",
              "      }\n",
              "    </script>\n",
              "  </div>\n",
              "\n",
              "\n",
<<<<<<< HEAD
              "<div id=\"df-afed72c8-7523-4566-9a41-2a4692851799\">\n",
              "  <button class=\"colab-df-quickchart\" onclick=\"quickchart('df-afed72c8-7523-4566-9a41-2a4692851799')\"\n",
=======
              "<div id=\"df-2ef42bd5-48bb-45b6-85de-96a567219e1c\">\n",
              "  <button class=\"colab-df-quickchart\" onclick=\"quickchart('df-2ef42bd5-48bb-45b6-85de-96a567219e1c')\"\n",
>>>>>>> 3aacb6fdaf343b9d9cc234410e9584ce35d63e52
              "            title=\"Suggest charts.\"\n",
              "            style=\"display:none;\">\n",
              "\n",
              "<svg xmlns=\"http://www.w3.org/2000/svg\" height=\"24px\"viewBox=\"0 0 24 24\"\n",
              "     width=\"24px\">\n",
              "    <g>\n",
              "        <path d=\"M19 3H5c-1.1 0-2 .9-2 2v14c0 1.1.9 2 2 2h14c1.1 0 2-.9 2-2V5c0-1.1-.9-2-2-2zM9 17H7v-7h2v7zm4 0h-2V7h2v10zm4 0h-2v-4h2v4z\"/>\n",
              "    </g>\n",
              "</svg>\n",
              "  </button>\n",
              "\n",
              "<style>\n",
              "  .colab-df-quickchart {\n",
              "    background-color: #E8F0FE;\n",
              "    border: none;\n",
              "    border-radius: 50%;\n",
              "    cursor: pointer;\n",
              "    display: none;\n",
              "    fill: #1967D2;\n",
              "    height: 32px;\n",
              "    padding: 0 0 0 0;\n",
              "    width: 32px;\n",
              "  }\n",
              "\n",
              "  .colab-df-quickchart:hover {\n",
              "    background-color: #E2EBFA;\n",
              "    box-shadow: 0px 1px 2px rgba(60, 64, 67, 0.3), 0px 1px 3px 1px rgba(60, 64, 67, 0.15);\n",
              "    fill: #174EA6;\n",
              "  }\n",
              "\n",
              "  [theme=dark] .colab-df-quickchart {\n",
              "    background-color: #3B4455;\n",
              "    fill: #D2E3FC;\n",
              "  }\n",
              "\n",
              "  [theme=dark] .colab-df-quickchart:hover {\n",
              "    background-color: #434B5C;\n",
              "    box-shadow: 0px 1px 3px 1px rgba(0, 0, 0, 0.15);\n",
              "    filter: drop-shadow(0px 1px 2px rgba(0, 0, 0, 0.3));\n",
              "    fill: #FFFFFF;\n",
              "  }\n",
              "</style>\n",
              "\n",
              "  <script>\n",
              "    async function quickchart(key) {\n",
              "      const charts = await google.colab.kernel.invokeFunction(\n",
              "          'suggestCharts', [key], {});\n",
              "    }\n",
              "    (() => {\n",
              "      let quickchartButtonEl =\n",
<<<<<<< HEAD
              "        document.querySelector('#df-afed72c8-7523-4566-9a41-2a4692851799 button');\n",
=======
              "        document.querySelector('#df-2ef42bd5-48bb-45b6-85de-96a567219e1c button');\n",
>>>>>>> 3aacb6fdaf343b9d9cc234410e9584ce35d63e52
              "      quickchartButtonEl.style.display =\n",
              "        google.colab.kernel.accessAllowed ? 'block' : 'none';\n",
              "    })();\n",
              "  </script>\n",
              "</div>\n",
              "    </div>\n",
              "  </div>\n"
            ]
          },
          "metadata": {},
<<<<<<< HEAD
          "execution_count": 15
=======
          "execution_count": 6
>>>>>>> 3aacb6fdaf343b9d9cc234410e9584ce35d63e52
        }
      ]
    },
    {
      "cell_type": "code",
      "source": [],
      "metadata": {
        "id": "H_IOtCeI553J"
      },
<<<<<<< HEAD
      "execution_count": 15,
=======
      "execution_count": 6,
>>>>>>> 3aacb6fdaf343b9d9cc234410e9584ce35d63e52
      "outputs": []
    },
    {
      "cell_type": "code",
      "source": [
        "df = pd.read_sql_query(sql=text(q_bioassay_dead_beetle_count), con=engine.connect())\n",
        "df"
      ],
      "metadata": {
        "colab": {
          "base_uri": "https://localhost:8080/",
          "height": 457
        },
        "id": "6GDKYb1gPwSn",
<<<<<<< HEAD
        "outputId": "03a52390-63bf-44a6-b333-a2d435bbf5e3"
      },
      "execution_count": 16,
=======
        "outputId": "59d3d342-9afe-4c28-bfec-a551e82d8747"
      },
      "execution_count": 7,
>>>>>>> 3aacb6fdaf343b9d9cc234410e9584ce35d63e52
      "outputs": [
        {
          "output_type": "execute_result",
          "data": {
            "text/plain": [
              "    date_dosed treatment   N\n",
              "0         None            25\n",
              "1   2023-07-31   CONTROL   2\n",
              "2   2023-07-31     DUG42   2\n",
              "3   2023-08-04   CONTROL   4\n",
              "4   2023-08-04     DUG42   2\n",
              "5   2023-08-15   CONTROL   3\n",
              "6   2023-08-15     DUG42   1\n",
              "7   2023-08-15       X2B   2\n",
              "8   2023-08-24   CONTROL   1\n",
              "9   2023-08-24     DUG42   1\n",
              "10  2023-08-24       PNG   2\n",
              "11  2023-08-24      V23B   1\n",
              "12  2023-08-24       X2B   1"
            ],
            "text/html": [
              "\n",
<<<<<<< HEAD
              "  <div id=\"df-c00eb94b-8cdd-4af3-8bc5-78ed8a891acd\" class=\"colab-df-container\">\n",
=======
              "  <div id=\"df-9b593899-c28f-4257-bc6e-5373e0fb34e0\" class=\"colab-df-container\">\n",
>>>>>>> 3aacb6fdaf343b9d9cc234410e9584ce35d63e52
              "    <div>\n",
              "<style scoped>\n",
              "    .dataframe tbody tr th:only-of-type {\n",
              "        vertical-align: middle;\n",
              "    }\n",
              "\n",
              "    .dataframe tbody tr th {\n",
              "        vertical-align: top;\n",
              "    }\n",
              "\n",
              "    .dataframe thead th {\n",
              "        text-align: right;\n",
              "    }\n",
              "</style>\n",
              "<table border=\"1\" class=\"dataframe\">\n",
              "  <thead>\n",
              "    <tr style=\"text-align: right;\">\n",
              "      <th></th>\n",
              "      <th>date_dosed</th>\n",
              "      <th>treatment</th>\n",
              "      <th>N</th>\n",
              "    </tr>\n",
              "  </thead>\n",
              "  <tbody>\n",
              "    <tr>\n",
              "      <th>0</th>\n",
              "      <td>None</td>\n",
              "      <td></td>\n",
              "      <td>25</td>\n",
              "    </tr>\n",
              "    <tr>\n",
              "      <th>1</th>\n",
              "      <td>2023-07-31</td>\n",
              "      <td>CONTROL</td>\n",
              "      <td>2</td>\n",
              "    </tr>\n",
              "    <tr>\n",
              "      <th>2</th>\n",
              "      <td>2023-07-31</td>\n",
              "      <td>DUG42</td>\n",
              "      <td>2</td>\n",
              "    </tr>\n",
              "    <tr>\n",
              "      <th>3</th>\n",
              "      <td>2023-08-04</td>\n",
              "      <td>CONTROL</td>\n",
              "      <td>4</td>\n",
              "    </tr>\n",
              "    <tr>\n",
              "      <th>4</th>\n",
              "      <td>2023-08-04</td>\n",
              "      <td>DUG42</td>\n",
              "      <td>2</td>\n",
              "    </tr>\n",
              "    <tr>\n",
              "      <th>5</th>\n",
              "      <td>2023-08-15</td>\n",
              "      <td>CONTROL</td>\n",
              "      <td>3</td>\n",
              "    </tr>\n",
              "    <tr>\n",
              "      <th>6</th>\n",
              "      <td>2023-08-15</td>\n",
              "      <td>DUG42</td>\n",
              "      <td>1</td>\n",
              "    </tr>\n",
              "    <tr>\n",
              "      <th>7</th>\n",
              "      <td>2023-08-15</td>\n",
              "      <td>X2B</td>\n",
              "      <td>2</td>\n",
              "    </tr>\n",
              "    <tr>\n",
              "      <th>8</th>\n",
              "      <td>2023-08-24</td>\n",
              "      <td>CONTROL</td>\n",
              "      <td>1</td>\n",
              "    </tr>\n",
              "    <tr>\n",
              "      <th>9</th>\n",
              "      <td>2023-08-24</td>\n",
              "      <td>DUG42</td>\n",
              "      <td>1</td>\n",
              "    </tr>\n",
              "    <tr>\n",
              "      <th>10</th>\n",
              "      <td>2023-08-24</td>\n",
              "      <td>PNG</td>\n",
              "      <td>2</td>\n",
              "    </tr>\n",
              "    <tr>\n",
              "      <th>11</th>\n",
              "      <td>2023-08-24</td>\n",
              "      <td>V23B</td>\n",
              "      <td>1</td>\n",
              "    </tr>\n",
              "    <tr>\n",
              "      <th>12</th>\n",
              "      <td>2023-08-24</td>\n",
              "      <td>X2B</td>\n",
              "      <td>1</td>\n",
              "    </tr>\n",
              "  </tbody>\n",
              "</table>\n",
              "</div>\n",
              "    <div class=\"colab-df-buttons\">\n",
              "\n",
              "  <div class=\"colab-df-container\">\n",
<<<<<<< HEAD
              "    <button class=\"colab-df-convert\" onclick=\"convertToInteractive('df-c00eb94b-8cdd-4af3-8bc5-78ed8a891acd')\"\n",
=======
              "    <button class=\"colab-df-convert\" onclick=\"convertToInteractive('df-9b593899-c28f-4257-bc6e-5373e0fb34e0')\"\n",
>>>>>>> 3aacb6fdaf343b9d9cc234410e9584ce35d63e52
              "            title=\"Convert this dataframe to an interactive table.\"\n",
              "            style=\"display:none;\">\n",
              "\n",
              "  <svg xmlns=\"http://www.w3.org/2000/svg\" height=\"24px\" viewBox=\"0 -960 960 960\">\n",
              "    <path d=\"M120-120v-720h720v720H120Zm60-500h600v-160H180v160Zm220 220h160v-160H400v160Zm0 220h160v-160H400v160ZM180-400h160v-160H180v160Zm440 0h160v-160H620v160ZM180-180h160v-160H180v160Zm440 0h160v-160H620v160Z\"/>\n",
              "  </svg>\n",
              "    </button>\n",
              "\n",
              "  <style>\n",
              "    .colab-df-container {\n",
              "      display:flex;\n",
              "      gap: 12px;\n",
              "    }\n",
              "\n",
              "    .colab-df-convert {\n",
              "      background-color: #E8F0FE;\n",
              "      border: none;\n",
              "      border-radius: 50%;\n",
              "      cursor: pointer;\n",
              "      display: none;\n",
              "      fill: #1967D2;\n",
              "      height: 32px;\n",
              "      padding: 0 0 0 0;\n",
              "      width: 32px;\n",
              "    }\n",
              "\n",
              "    .colab-df-convert:hover {\n",
              "      background-color: #E2EBFA;\n",
              "      box-shadow: 0px 1px 2px rgba(60, 64, 67, 0.3), 0px 1px 3px 1px rgba(60, 64, 67, 0.15);\n",
              "      fill: #174EA6;\n",
              "    }\n",
              "\n",
              "    .colab-df-buttons div {\n",
              "      margin-bottom: 4px;\n",
              "    }\n",
              "\n",
              "    [theme=dark] .colab-df-convert {\n",
              "      background-color: #3B4455;\n",
              "      fill: #D2E3FC;\n",
              "    }\n",
              "\n",
              "    [theme=dark] .colab-df-convert:hover {\n",
              "      background-color: #434B5C;\n",
              "      box-shadow: 0px 1px 3px 1px rgba(0, 0, 0, 0.15);\n",
              "      filter: drop-shadow(0px 1px 2px rgba(0, 0, 0, 0.3));\n",
              "      fill: #FFFFFF;\n",
              "    }\n",
              "  </style>\n",
              "\n",
              "    <script>\n",
              "      const buttonEl =\n",
<<<<<<< HEAD
              "        document.querySelector('#df-c00eb94b-8cdd-4af3-8bc5-78ed8a891acd button.colab-df-convert');\n",
=======
              "        document.querySelector('#df-9b593899-c28f-4257-bc6e-5373e0fb34e0 button.colab-df-convert');\n",
>>>>>>> 3aacb6fdaf343b9d9cc234410e9584ce35d63e52
              "      buttonEl.style.display =\n",
              "        google.colab.kernel.accessAllowed ? 'block' : 'none';\n",
              "\n",
              "      async function convertToInteractive(key) {\n",
<<<<<<< HEAD
              "        const element = document.querySelector('#df-c00eb94b-8cdd-4af3-8bc5-78ed8a891acd');\n",
=======
              "        const element = document.querySelector('#df-9b593899-c28f-4257-bc6e-5373e0fb34e0');\n",
>>>>>>> 3aacb6fdaf343b9d9cc234410e9584ce35d63e52
              "        const dataTable =\n",
              "          await google.colab.kernel.invokeFunction('convertToInteractive',\n",
              "                                                    [key], {});\n",
              "        if (!dataTable) return;\n",
              "\n",
              "        const docLinkHtml = 'Like what you see? Visit the ' +\n",
              "          '<a target=\"_blank\" href=https://colab.research.google.com/notebooks/data_table.ipynb>data table notebook</a>'\n",
              "          + ' to learn more about interactive tables.';\n",
              "        element.innerHTML = '';\n",
              "        dataTable['output_type'] = 'display_data';\n",
              "        await google.colab.output.renderOutput(dataTable, element);\n",
              "        const docLink = document.createElement('div');\n",
              "        docLink.innerHTML = docLinkHtml;\n",
              "        element.appendChild(docLink);\n",
              "      }\n",
              "    </script>\n",
              "  </div>\n",
              "\n",
              "\n",
<<<<<<< HEAD
              "<div id=\"df-9f04e9a8-2216-41c2-ae2d-b254b762d1ed\">\n",
              "  <button class=\"colab-df-quickchart\" onclick=\"quickchart('df-9f04e9a8-2216-41c2-ae2d-b254b762d1ed')\"\n",
=======
              "<div id=\"df-44778892-13cc-489a-8684-1f617126b189\">\n",
              "  <button class=\"colab-df-quickchart\" onclick=\"quickchart('df-44778892-13cc-489a-8684-1f617126b189')\"\n",
>>>>>>> 3aacb6fdaf343b9d9cc234410e9584ce35d63e52
              "            title=\"Suggest charts.\"\n",
              "            style=\"display:none;\">\n",
              "\n",
              "<svg xmlns=\"http://www.w3.org/2000/svg\" height=\"24px\"viewBox=\"0 0 24 24\"\n",
              "     width=\"24px\">\n",
              "    <g>\n",
              "        <path d=\"M19 3H5c-1.1 0-2 .9-2 2v14c0 1.1.9 2 2 2h14c1.1 0 2-.9 2-2V5c0-1.1-.9-2-2-2zM9 17H7v-7h2v7zm4 0h-2V7h2v10zm4 0h-2v-4h2v4z\"/>\n",
              "    </g>\n",
              "</svg>\n",
              "  </button>\n",
              "\n",
              "<style>\n",
              "  .colab-df-quickchart {\n",
              "    background-color: #E8F0FE;\n",
              "    border: none;\n",
              "    border-radius: 50%;\n",
              "    cursor: pointer;\n",
              "    display: none;\n",
              "    fill: #1967D2;\n",
              "    height: 32px;\n",
              "    padding: 0 0 0 0;\n",
              "    width: 32px;\n",
              "  }\n",
              "\n",
              "  .colab-df-quickchart:hover {\n",
              "    background-color: #E2EBFA;\n",
              "    box-shadow: 0px 1px 2px rgba(60, 64, 67, 0.3), 0px 1px 3px 1px rgba(60, 64, 67, 0.15);\n",
              "    fill: #174EA6;\n",
              "  }\n",
              "\n",
              "  [theme=dark] .colab-df-quickchart {\n",
              "    background-color: #3B4455;\n",
              "    fill: #D2E3FC;\n",
              "  }\n",
              "\n",
              "  [theme=dark] .colab-df-quickchart:hover {\n",
              "    background-color: #434B5C;\n",
              "    box-shadow: 0px 1px 3px 1px rgba(0, 0, 0, 0.15);\n",
              "    filter: drop-shadow(0px 1px 2px rgba(0, 0, 0, 0.3));\n",
              "    fill: #FFFFFF;\n",
              "  }\n",
              "</style>\n",
              "\n",
              "  <script>\n",
              "    async function quickchart(key) {\n",
              "      const charts = await google.colab.kernel.invokeFunction(\n",
              "          'suggestCharts', [key], {});\n",
              "    }\n",
              "    (() => {\n",
              "      let quickchartButtonEl =\n",
<<<<<<< HEAD
              "        document.querySelector('#df-9f04e9a8-2216-41c2-ae2d-b254b762d1ed button');\n",
=======
              "        document.querySelector('#df-44778892-13cc-489a-8684-1f617126b189 button');\n",
>>>>>>> 3aacb6fdaf343b9d9cc234410e9584ce35d63e52
              "      quickchartButtonEl.style.display =\n",
              "        google.colab.kernel.accessAllowed ? 'block' : 'none';\n",
              "    })();\n",
              "  </script>\n",
              "</div>\n",
              "    </div>\n",
              "  </div>\n"
            ]
          },
          "metadata": {},
<<<<<<< HEAD
          "execution_count": 16
=======
          "execution_count": 7
>>>>>>> 3aacb6fdaf343b9d9cc234410e9584ce35d63e52
        }
      ]
    },
    {
      "cell_type": "code",
      "source": [
        "def generate_report():\n",
        "\n",
        "    # title_html\n",
        "\n",
        "    s = '<p class=\"title is-1\">Bioassay Report</p>\\n'\n",
        "    # s += f'<p class=\"subtitle is-3\">Status report</p>\\n'\n",
        "    s += f'<p>Generated by <b>bioassay-report-generator</b> at {datetime.utcnow()} UTC</p>'\n",
        "    # s += '<p>Data are check against controlled vocabularies listed at the bottom of this report. Currently, these lists are maintained within <b>validator2.ipynb</b></p>\\n'\n",
        "    # s += '<p>Click on a <b>uuid</b> to see validation results for the corresponding chapter.</p>'\n",
        "    title_html = s\n",
        "\n",
        "    # Write the validation report\n",
        "\n",
        "    timestamp = datetime.utcnow()\n",
        "    html = f'''\n",
        "        <html>\n",
        "            <header>\n",
        "                <meta charset=\"utf-8\">\n",
        "                <meta name=\"viewport\" content=\"width=device-width, initial-scale=1\">\n",
        "                <title>validator2</title>\n",
        "                <link rel=\"stylesheet\" href=\"https://cdn.jsdelivr.net/npm/bulma@0.9.3/css/bulma.min.css\">\n",
        "            </header>\n",
        "            <body>\n",
        "                <section class=\"section\">\n",
        "                    <div class=\"container\">\n",
        "                        {title_html}\n",
        "                        Stuff goes here.\n",
        "                     </div>\n",
        "                </section>\n",
        "            </body>\n",
        "        </html>\n",
        "        '''\n",
<<<<<<< HEAD
        "    with open(f'index.html', 'w') as f:\n",
=======
        "    with open(f'report.html', 'w') as f:\n",
>>>>>>> 3aacb6fdaf343b9d9cc234410e9584ce35d63e52
        "        f.write(html)"
      ],
      "metadata": {
        "id": "znXNSr2M576R"
      },
<<<<<<< HEAD
      "execution_count": 17,
=======
      "execution_count": 8,
>>>>>>> 3aacb6fdaf343b9d9cc234410e9584ce35d63e52
      "outputs": []
    },
    {
      "cell_type": "code",
      "source": [
        "# MAIN PROGRAM\n",
        "\n",
        "generate_report()"
      ],
      "metadata": {
        "id": "tZzPDDyp8oG-"
      },
<<<<<<< HEAD
      "execution_count": 18,
=======
      "execution_count": 9,
>>>>>>> 3aacb6fdaf343b9d9cc234410e9584ce35d63e52
      "outputs": []
    }
  ]
}